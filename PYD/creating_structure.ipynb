{
 "cells": [
  {
   "cell_type": "code",
   "execution_count": null,
   "id": "a79dd39c",
   "metadata": {},
   "outputs": [],
   "source": [
    "from ase.io import read\n",
    "from ase.geometry.analysis import Analysis"
   ]
  },
  {
   "cell_type": "code",
   "execution_count": 1,
   "id": "9415f1f7",
   "metadata": {},
   "outputs": [
    {
     "data": {
      "text/html": [
       "<div id=\"glowscript\" class=\"glowscript\"></div>"
      ],
      "text/plain": [
       "<IPython.core.display.HTML object>"
      ]
     },
     "metadata": {},
     "output_type": "display_data"
    },
    {
     "data": {
      "application/javascript": [
       "if (typeof Jupyter !== \"undefined\") { window.__context = { glowscript_container: $(\"#glowscript\").removeAttr(\"id\")};}else{ element.textContent = ' ';}"
      ],
      "text/plain": [
       "<IPython.core.display.Javascript object>"
      ]
     },
     "metadata": {},
     "output_type": "display_data"
    }
   ],
   "source": [
    "from vmol.view import VMolecule\n",
    "from vmol.tests.variables4tests import GPAmol # xyz file\n",
    "from ase.io import read\n",
    "import numpy as np\n",
    "from ase.io import write\n",
    "from ase import Atoms"
   ]
  },
  {
   "cell_type": "markdown",
   "id": "319e2f3f-7e42-4fd1-a1b9-f26f51686085",
   "metadata": {},
   "source": [
    "# Create initial structure to optimize."
   ]
  },
  {
   "cell_type": "code",
   "execution_count": 2,
   "id": "5ae06e6d",
   "metadata": {},
   "outputs": [
    {
     "data": {
      "text/html": [
       "<div id=\"glowscript\" class=\"glowscript\"></div>"
      ],
      "text/plain": [
       "<IPython.core.display.HTML object>"
      ]
     },
     "metadata": {},
     "output_type": "display_data"
    },
    {
     "data": {
      "application/javascript": [
       "if (typeof Jupyter !== \"undefined\") { window.__context = { glowscript_container: $(\"#glowscript\").removeAttr(\"id\")};}else{ element.textContent = ' ';}"
      ],
      "text/plain": [
       "<IPython.core.display.Javascript object>"
      ]
     },
     "metadata": {},
     "output_type": "display_data"
    },
    {
     "data": {
      "application/javascript": [
       "if (typeof Jupyter !== \"undefined\") {require.undef(\"nbextensions/vpython_libraries/glow.min\");}else{element.textContent = ' ';}"
      ],
      "text/plain": [
       "<IPython.core.display.Javascript object>"
      ]
     },
     "metadata": {},
     "output_type": "display_data"
    },
    {
     "data": {
      "application/javascript": [
       "if (typeof Jupyter !== \"undefined\") {require.undef(\"nbextensions/vpython_libraries/glowcomm\");}else{element.textContent = ' ';}"
      ],
      "text/plain": [
       "<IPython.core.display.Javascript object>"
      ]
     },
     "metadata": {},
     "output_type": "display_data"
    },
    {
     "data": {
      "application/javascript": [
       "if (typeof Jupyter !== \"undefined\") {require.undef(\"nbextensions/vpython_libraries/jquery-ui.custom.min\");}else{element.textContent = ' ';}"
      ],
      "text/plain": [
       "<IPython.core.display.Javascript object>"
      ]
     },
     "metadata": {},
     "output_type": "display_data"
    },
    {
     "data": {
      "application/javascript": [
       "if (typeof Jupyter !== \"undefined\") {require([\"nbextensions/vpython_libraries/glow.min\"], function(){console.log(\"GLOW LOADED\");});}else{element.textContent = ' ';}"
      ],
      "text/plain": [
       "<IPython.core.display.Javascript object>"
      ]
     },
     "metadata": {},
     "output_type": "display_data"
    },
    {
     "data": {
      "application/javascript": [
       "if (typeof Jupyter !== \"undefined\") {require([\"nbextensions/vpython_libraries/glowcomm\"], function(){console.log(\"GLOWCOMM LOADED\");});}else{element.textContent = ' ';}"
      ],
      "text/plain": [
       "<IPython.core.display.Javascript object>"
      ]
     },
     "metadata": {},
     "output_type": "display_data"
    },
    {
     "data": {
      "application/javascript": [
       "if (typeof Jupyter !== \"undefined\") {require([\"nbextensions/vpython_libraries/jquery-ui.custom.min\"], function(){console.log(\"JQUERY LOADED\");});}else{element.textContent = ' ';}"
      ],
      "text/plain": [
       "<IPython.core.display.Javascript object>"
      ]
     },
     "metadata": {},
     "output_type": "display_data"
    },
    {
     "data": {
      "text/plain": [
       "[<vpython.vpython.arrow at 0x7f5a26985e20>,\n",
       " <vpython.vpython.arrow at 0x7f5a269e1a90>,\n",
       " <vpython.vpython.arrow at 0x7f5a269e1bb0>]"
      ]
     },
     "execution_count": 2,
     "metadata": {},
     "output_type": "execute_result"
    }
   ],
   "source": [
    "atoms = read(\"./opt/model.xyz\")\n",
    "vm = VMolecule(atoms, default_bonds=True)\n",
    "vm.show_axis()"
   ]
  },
  {
   "cell_type": "code",
   "execution_count": null,
   "id": "e7604e02",
   "metadata": {},
   "outputs": [],
   "source": [
    "vm.hide_atom(15)"
   ]
  },
  {
   "cell_type": "code",
   "execution_count": null,
   "id": "f5fd016f",
   "metadata": {},
   "outputs": [],
   "source": [
    "hola = 'hsajkldshasakjdasl'"
   ]
  },
  {
   "cell_type": "code",
   "execution_count": null,
   "id": "bce51a3f",
   "metadata": {},
   "outputs": [],
   "source": [
    "hola.split('/')"
   ]
  },
  {
   "cell_type": "code",
   "execution_count": null,
   "id": "1eb8428f",
   "metadata": {},
   "outputs": [],
   "source": [
    "print(\"%EPRNMR\")"
   ]
  },
  {
   "cell_type": "code",
   "execution_count": null,
   "id": "209296b0",
   "metadata": {},
   "outputs": [],
   "source": [
    "eval('import numpy')"
   ]
  },
  {
   "cell_type": "code",
   "execution_count": null,
   "id": "a233f6d6",
   "metadata": {},
   "outputs": [],
   "source": [
    "import argparse\n",
    "\n",
    "# Create ArgumentParser object\n",
    "parser = argparse.ArgumentParser(description=\"Example script with flags.\")\n",
    "\n",
    "# Add arguments with flags\n",
    "parser.add_argument(\"-n\", \"--name\", type=str, help=\"User's name\", required=True)\n",
    "parser.add_argument(\"-a\", \"--age\", type=int, help=\"User's age\", required=True)\n",
    "parser.add_argument(\"-v\", \"--verbose\", action=\"store_true\", help=\"Enable verbose mode\")\n",
    "\n",
    "# Parse the arguments\n",
    "args = parser.parse_args()\n",
    "\n",
    "# Access arguments\n",
    "print(f\"Name: {args.name}\")\n",
    "print(f\"Age: {args.age}\")\n",
    "\n",
    "if args.verbose:\n",
    "    print(\"Verbose mode enabled.\")\n"
   ]
  },
  {
   "cell_type": "code",
   "execution_count": null,
   "id": "7993116f",
   "metadata": {},
   "outputs": [],
   "source": [
    "elements = HFC_relevantA(atoms, [1, 6], deep=3)"
   ]
  },
  {
   "cell_type": "code",
   "execution_count": null,
   "id": "ec177a8e",
   "metadata": {},
   "outputs": [],
   "source": [
    "np.arange(len(atoms))"
   ]
  },
  {
   "cell_type": "code",
   "execution_count": null,
   "id": "aa5771ad",
   "metadata": {},
   "outputs": [],
   "source": [
    "ana.all_bonds"
   ]
  },
  {
   "cell_type": "markdown",
   "id": "7f8b91c3-741c-4946-a8df-cabacdc7a296",
   "metadata": {},
   "source": [
    "# Create radical candidates"
   ]
  },
  {
   "cell_type": "code",
   "execution_count": null,
   "id": "a129eb1d",
   "metadata": {},
   "outputs": [],
   "source": [
    "!ls "
   ]
  },
  {
   "cell_type": "code",
   "execution_count": null,
   "id": "af52b351-db31-434a-bf17-2196d1c91f6e",
   "metadata": {},
   "outputs": [],
   "source": [
    "# Oxygen 1\n",
    "vm.hide_atom(5)\n",
    "sub = vm.seen_atoms()\n",
    "write('1-OxygenCharged/model.xyz', sub)\n",
    "vm.show_atom(5)"
   ]
  },
  {
   "cell_type": "code",
   "execution_count": null,
   "id": "bf5841d9",
   "metadata": {},
   "outputs": [],
   "source": [
    "# Oxygen 2\n",
    "vm.hide_atom(5)\n",
    "vm.hide_atom(15)\n",
    "sub = vm.seen_atoms()\n",
    "write('2-OxygenNeutral/model.xyz', sub)\n",
    "vm.show_atom(15)\n",
    "vm.show_atom(5)"
   ]
  },
  {
   "cell_type": "code",
   "execution_count": null,
   "id": "87daaac9",
   "metadata": {},
   "outputs": [],
   "source": [
    "! ls"
   ]
  },
  {
   "cell_type": "code",
   "execution_count": null,
   "id": "af36c2b5",
   "metadata": {},
   "outputs": [],
   "source": [
    "# Oxygen 2\n",
    "vm.hide_atom(15)\n",
    "sub = vm.seen_atoms()\n",
    "write('deprotonated/model.xyz', sub)\n",
    "vm.show_atom(15)"
   ]
  },
  {
   "cell_type": "code",
   "execution_count": null,
   "id": "ab37affb",
   "metadata": {},
   "outputs": [],
   "source": []
  },
  {
   "cell_type": "code",
   "execution_count": null,
   "id": "87ef1092",
   "metadata": {},
   "outputs": [],
   "source": []
  },
  {
   "cell_type": "code",
   "execution_count": null,
   "id": "0eb44e16",
   "metadata": {},
   "outputs": [],
   "source": []
  },
  {
   "cell_type": "code",
   "execution_count": null,
   "id": "9d092969-7664-4c8b-a8f9-bb25fbca241c",
   "metadata": {},
   "outputs": [],
   "source": [
    "# C ring 3\n",
    "vm.hide_atom(27)\n",
    "sub = vm.seen_atoms()\n",
    "!mkdir 3-C-ring\n",
    "write('3-C-ring/model.xyz', sub)\n",
    "vm.show_atom(27)"
   ]
  },
  {
   "cell_type": "code",
   "execution_count": null,
   "id": "9aac5798-d721-432d-8e8a-7036f4865e34",
   "metadata": {},
   "outputs": [],
   "source": [
    "# 4-C-ring\n",
    "vm.hide_atom(26)\n",
    "sub = vm.seen_atoms()\n",
    "!mkdir 4-C-ring\n",
    "write('4-C-ring/model.xyz', sub)\n",
    "vm.show_atom(26)"
   ]
  },
  {
   "cell_type": "code",
   "execution_count": null,
   "id": "25ffe070-86bf-4d92-8f17-6164284eb4ee",
   "metadata": {},
   "outputs": [],
   "source": [
    "# 5-C-ring\n",
    "vm.hide_atom(12)\n",
    "sub = vm.seen_atoms()\n",
    "!mkdir 5-C-ring\n",
    "write('5-C-ring/model.xyz', sub)\n",
    "vm.show_atom(12)"
   ]
  },
  {
   "cell_type": "code",
   "execution_count": null,
   "id": "46dae57a-d90c-4bb5-8bc8-b3bdec3f968a",
   "metadata": {},
   "outputs": [],
   "source": [
    "# 6-C-ring\n",
    "vm.hide_atom(13)\n",
    "sub = vm.seen_atoms()\n",
    "!mkdir 6-C-ring\n",
    "write('6-C-ring/model.xyz', sub)\n",
    "vm.show_atom(13)"
   ]
  },
  {
   "cell_type": "code",
   "execution_count": null,
   "id": "f848d60a-7959-4ca2-9d3b-0ab92331f7ed",
   "metadata": {},
   "outputs": [],
   "source": [
    "# 7-C-ring\n",
    "vm.hide_atom(30)\n",
    "sub = vm.seen_atoms()\n",
    "!mkdir 7-C-bridge\n",
    "write('7-C-bridge/model.xyz', sub)\n",
    "vm.show_atom(30)"
   ]
  },
  {
   "cell_type": "markdown",
   "id": "26c9e921-23f5-4836-9f0d-573fb8bbcc10",
   "metadata": {},
   "source": [
    "# Test"
   ]
  },
  {
   "cell_type": "code",
   "execution_count": 4,
   "id": "6617e0df",
   "metadata": {},
   "outputs": [
    {
     "data": {
      "text/html": [
       "<div id=\"glowscript\" class=\"glowscript\"></div>"
      ],
      "text/plain": [
       "<IPython.core.display.HTML object>"
      ]
     },
     "metadata": {},
     "output_type": "display_data"
    },
    {
     "data": {
      "application/javascript": [
       "if (typeof Jupyter !== \"undefined\") { window.__context = { glowscript_container: $(\"#glowscript\").removeAttr(\"id\")};}else{ element.textContent = ' ';}"
      ],
      "text/plain": [
       "<IPython.core.display.Javascript object>"
      ]
     },
     "metadata": {},
     "output_type": "display_data"
    }
   ],
   "source": [
    "atoms = read('deprotonated/model.xyz')\n",
    "vm = VMolecule(atoms, default_bonds=True)"
   ]
  },
  {
   "cell_type": "code",
   "execution_count": null,
   "id": "737d6f53",
   "metadata": {},
   "outputs": [],
   "source": [
    "vm.hide_atom(13)"
   ]
  },
  {
   "cell_type": "code",
   "execution_count": null,
   "id": "641deef2",
   "metadata": {},
   "outputs": [],
   "source": [
    "for i in np.array([1, 5, 11, 12, 13, 14, 21]) - 1:\n",
    "    vm.hide_atom(i)\n",
    "    "
   ]
  },
  {
   "cell_type": "code",
   "execution_count": null,
   "id": "2dab3ce0-e1de-42ad-981e-955f92f13e59",
   "metadata": {},
   "outputs": [],
   "source": [
    "VMolecule(sub, default_bonds=True)"
   ]
  }
 ],
 "metadata": {
  "kernelspec": {
   "display_name": "Python 3 (ipykernel)",
   "language": "python",
   "name": "python3"
  },
  "language_info": {
   "codemirror_mode": {
    "name": "ipython",
    "version": 3
   },
   "file_extension": ".py",
   "mimetype": "text/x-python",
   "name": "python",
   "nbconvert_exporter": "python",
   "pygments_lexer": "ipython3",
   "version": "3.9.17"
  }
 },
 "nbformat": 4,
 "nbformat_minor": 5
}
